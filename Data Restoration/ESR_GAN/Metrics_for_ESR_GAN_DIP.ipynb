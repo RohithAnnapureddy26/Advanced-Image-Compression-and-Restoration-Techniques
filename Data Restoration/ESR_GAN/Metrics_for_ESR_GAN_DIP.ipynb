{
  "nbformat": 4,
  "nbformat_minor": 0,
  "metadata": {
    "colab": {
      "provenance": [],
      "machine_shape": "hm",
      "gpuType": "T4"
    },
    "kernelspec": {
      "name": "python3",
      "display_name": "Python 3"
    },
    "language_info": {
      "name": "python"
    },
    "accelerator": "GPU"
  },
  "cells": [
    {
      "cell_type": "markdown",
      "source": [
        "### **Setting Up Metrics for Image Quality Evaluation**"
      ],
      "metadata": {
        "id": "4wMJrym3Dk0j"
      }
    },
    {
      "cell_type": "markdown",
      "source": [
        "**Mount Google Drive**"
      ],
      "metadata": {
        "id": "OywnyGOKDrGf"
      }
    },
    {
      "cell_type": "code",
      "execution_count": null,
      "metadata": {
        "colab": {
          "base_uri": "https://localhost:8080/"
        },
        "id": "b22TDw_E6IwQ",
        "outputId": "e762bf99-d4d9-45ed-aed9-57c5280398ea"
      },
      "outputs": [
        {
          "output_type": "stream",
          "name": "stdout",
          "text": [
            "Drive already mounted at /content/drive; to attempt to forcibly remount, call drive.mount(\"/content/drive\", force_remount=True).\n"
          ]
        }
      ],
      "source": [
        "Xfrom google.colab import drive\n",
        "drive.mount('/content/drive')"
      ]
    },
    {
      "cell_type": "markdown",
      "source": [
        "**Install LPIPS Package**\n",
        "\n",
        "Installs the LPIPS (Learned Perceptual Image Patch Similarity) library for perceptual image quality assessment"
      ],
      "metadata": {
        "id": "Pz820tMVDuWT"
      }
    },
    {
      "cell_type": "code",
      "source": [
        "!pip install lpips"
      ],
      "metadata": {
        "colab": {
          "base_uri": "https://localhost:8080/"
        },
        "id": "MjL3ZQ8v7L2Z",
        "outputId": "91e03a61-23dc-47b6-95d8-0501655ee6b1"
      },
      "execution_count": null,
      "outputs": [
        {
          "output_type": "stream",
          "name": "stdout",
          "text": [
            "Collecting lpips\n",
            "  Downloading lpips-0.1.4-py3-none-any.whl.metadata (10 kB)\n",
            "Requirement already satisfied: torch>=0.4.0 in /usr/local/lib/python3.10/dist-packages (from lpips) (2.5.1+cu121)\n",
            "Requirement already satisfied: torchvision>=0.2.1 in /usr/local/lib/python3.10/dist-packages (from lpips) (0.20.1+cu121)\n",
            "Requirement already satisfied: numpy>=1.14.3 in /usr/local/lib/python3.10/dist-packages (from lpips) (1.26.4)\n",
            "Requirement already satisfied: scipy>=1.0.1 in /usr/local/lib/python3.10/dist-packages (from lpips) (1.13.1)\n",
            "Requirement already satisfied: tqdm>=4.28.1 in /usr/local/lib/python3.10/dist-packages (from lpips) (4.66.6)\n",
            "Requirement already satisfied: filelock in /usr/local/lib/python3.10/dist-packages (from torch>=0.4.0->lpips) (3.16.1)\n",
            "Requirement already satisfied: typing-extensions>=4.8.0 in /usr/local/lib/python3.10/dist-packages (from torch>=0.4.0->lpips) (4.12.2)\n",
            "Requirement already satisfied: networkx in /usr/local/lib/python3.10/dist-packages (from torch>=0.4.0->lpips) (3.4.2)\n",
            "Requirement already satisfied: jinja2 in /usr/local/lib/python3.10/dist-packages (from torch>=0.4.0->lpips) (3.1.4)\n",
            "Requirement already satisfied: fsspec in /usr/local/lib/python3.10/dist-packages (from torch>=0.4.0->lpips) (2024.10.0)\n",
            "Requirement already satisfied: sympy==1.13.1 in /usr/local/lib/python3.10/dist-packages (from torch>=0.4.0->lpips) (1.13.1)\n",
            "Requirement already satisfied: mpmath<1.4,>=1.1.0 in /usr/local/lib/python3.10/dist-packages (from sympy==1.13.1->torch>=0.4.0->lpips) (1.3.0)\n",
            "Requirement already satisfied: pillow!=8.3.*,>=5.3.0 in /usr/local/lib/python3.10/dist-packages (from torchvision>=0.2.1->lpips) (11.0.0)\n",
            "Requirement already satisfied: MarkupSafe>=2.0 in /usr/local/lib/python3.10/dist-packages (from jinja2->torch>=0.4.0->lpips) (3.0.2)\n",
            "Downloading lpips-0.1.4-py3-none-any.whl (53 kB)\n",
            "\u001b[?25l   \u001b[90m━━━━━━━━━━━━━━━━━━━━━━━━━━━━━━━━━━━━━━━━\u001b[0m \u001b[32m0.0/53.8 kB\u001b[0m \u001b[31m?\u001b[0m eta \u001b[36m-:--:--\u001b[0m\r\u001b[2K   \u001b[90m━━━━━━━━━━━━━━━━━━━━━━━━━━━━━━━━━━━━━━━━\u001b[0m \u001b[32m53.8/53.8 kB\u001b[0m \u001b[31m2.1 MB/s\u001b[0m eta \u001b[36m0:00:00\u001b[0m\n",
            "\u001b[?25hInstalling collected packages: lpips\n",
            "Successfully installed lpips-0.1.4\n"
          ]
        }
      ]
    },
    {
      "cell_type": "markdown",
      "source": [
        "**Installing Required Libraries**"
      ],
      "metadata": {
        "id": "tQpMdX20Dyl9"
      }
    },
    {
      "cell_type": "code",
      "source": [
        "import os\n",
        "import numpy as np\n",
        "from skimage.metrics import structural_similarity as ssim, peak_signal_noise_ratio as psnr\n",
        "from skimage.transform import resize\n",
        "from PIL import Image\n",
        "import pandas as pd\n",
        "import torch\n",
        "import lpips\n",
        "from matplotlib import pyplot as plt"
      ],
      "metadata": {
        "id": "myABpd1G7PFx"
      },
      "execution_count": null,
      "outputs": []
    },
    {
      "cell_type": "markdown",
      "source": [
        "**Initialize LPIPS Model**\n",
        "\n",
        "Loads the LPIPS model with the AlexNet backbone and enables GPU acceleration for perceptual similarity computation"
      ],
      "metadata": {
        "id": "4lMuhddKD-0u"
      }
    },
    {
      "cell_type": "code",
      "source": [
        "lpips_model = lpips.LPIPS(net=\"alex\").cuda()"
      ],
      "metadata": {
        "colab": {
          "base_uri": "https://localhost:8080/"
        },
        "id": "Cd8Ysv507QSu",
        "outputId": "c91948f8-e23b-44db-8502-06d10efbe0de"
      },
      "execution_count": null,
      "outputs": [
        {
          "output_type": "stream",
          "name": "stdout",
          "text": [
            "Setting up [LPIPS] perceptual loss: trunk [alex], v[0.1], spatial [off]\n"
          ]
        },
        {
          "output_type": "stream",
          "name": "stderr",
          "text": [
            "/usr/local/lib/python3.10/dist-packages/torchvision/models/_utils.py:208: UserWarning: The parameter 'pretrained' is deprecated since 0.13 and may be removed in the future, please use 'weights' instead.\n",
            "  warnings.warn(\n",
            "/usr/local/lib/python3.10/dist-packages/torchvision/models/_utils.py:223: UserWarning: Arguments other than a weight enum or `None` for 'weights' are deprecated since 0.13 and may be removed in the future. The current behavior is equivalent to passing `weights=AlexNet_Weights.IMAGENET1K_V1`. You can also use `weights=AlexNet_Weights.DEFAULT` to get the most up-to-date weights.\n",
            "  warnings.warn(msg)\n",
            "Downloading: \"https://download.pytorch.org/models/alexnet-owt-7be5be79.pth\" to /root/.cache/torch/hub/checkpoints/alexnet-owt-7be5be79.pth\n",
            "100%|██████████| 233M/233M [00:01<00:00, 206MB/s]\n"
          ]
        },
        {
          "output_type": "stream",
          "name": "stdout",
          "text": [
            "Loading model from: /usr/local/lib/python3.10/dist-packages/lpips/weights/v0.1/alex.pth\n"
          ]
        },
        {
          "output_type": "stream",
          "name": "stderr",
          "text": [
            "/usr/local/lib/python3.10/dist-packages/lpips/lpips.py:107: FutureWarning: You are using `torch.load` with `weights_only=False` (the current default value), which uses the default pickle module implicitly. It is possible to construct malicious pickle data which will execute arbitrary code during unpickling (See https://github.com/pytorch/pytorch/blob/main/SECURITY.md#untrusted-models for more details). In a future release, the default value for `weights_only` will be flipped to `True`. This limits the functions that could be executed during unpickling. Arbitrary objects will no longer be allowed to be loaded via this mode unless they are explicitly allowlisted by the user via `torch.serialization.add_safe_globals`. We recommend you start setting `weights_only=True` for any use case where you don't have full control of the loaded file. Please open an issue on GitHub for any issues related to this experimental feature.\n",
            "  self.load_state_dict(torch.load(model_path, map_location='cpu'), strict=False)\n"
          ]
        }
      ]
    },
    {
      "cell_type": "code",
      "source": [
        "# Paths to directories\n",
        "test_dir = \"/content/drive/MyDrive/ESR_GAN/test\"\n",
        "test_degraded_dir = \"/content/drive/MyDrive/ESR_GAN/test_degraded\"\n",
        "test_results_dir = \"/content/drive/MyDrive/ESR_GAN/test_degraded_results\""
      ],
      "metadata": {
        "id": "uQZCmM9K7RY8"
      },
      "execution_count": null,
      "outputs": []
    },
    {
      "cell_type": "code",
      "source": [
        "test_path = \"/content/drive/MyDrive/ESR_GAN/test/0002.png\"\n",
        "test_degraded_path = \"/content/drive/MyDrive/ESR_GAN/test_degraded/0002.png\"\n",
        "test_restored_path = \"/content/drive/MyDrive/ESR_GAN/test_degraded_results/0002_out.png\""
      ],
      "metadata": {
        "id": "Q5e5Qlza9Oho"
      },
      "execution_count": null,
      "outputs": []
    },
    {
      "cell_type": "markdown",
      "source": [
        "**Load Image Function**\n",
        "\n",
        "Loads an image from the specified filepath, converts it to RGB, and normalizes pixel values to the range [0, 1] for compatibility with metrics"
      ],
      "metadata": {
        "id": "DNrZTcdwENrf"
      }
    },
    {
      "cell_type": "code",
      "source": [
        "def load_image(filepath):\n",
        "    \"\"\"Load an image as a numpy array normalized to [0, 1].\"\"\"\n",
        "    return np.array(Image.open(filepath).convert(\"RGB\")) / 255.0"
      ],
      "metadata": {
        "id": "YpYMh2Pa-sjA"
      },
      "execution_count": null,
      "outputs": []
    },
    {
      "cell_type": "markdown",
      "source": [
        "**Resize Image Function**\n",
        "\n",
        "Resizes the input image to a fixed size (default: 256x256) using anti-aliasing for smoother scaling."
      ],
      "metadata": {
        "id": "dtOIHoXkER9N"
      }
    },
    {
      "cell_type": "code",
      "source": [
        "def resize_to_fixed_size(image, target_size=(256, 256)):\n",
        "    \"\"\"Resize an image to a fixed target size.\"\"\"\n",
        "    return resize(image, target_size, anti_aliasing=True)"
      ],
      "metadata": {
        "id": "RNSS-GNY-t4q"
      },
      "execution_count": null,
      "outputs": []
    },
    {
      "cell_type": "markdown",
      "source": [
        "**Calculate SSIM with Fallback**\n",
        "\n",
        "Computes SSIM (Structural Similarity Index) between two images. Dynamically adjusts the window size (win_size) based on image dimensions for compatibility.\n"
      ],
      "metadata": {
        "id": "Mcw5cmFNEIcm"
      }
    },
    {
      "cell_type": "code",
      "source": [
        "def calculate_ssim_with_fallback(image1, image2):\n",
        "    \"\"\"Calculate SSIM with a dynamically adjusted win_size.\"\"\"\n",
        "    h, w = image1.shape[:2]\n",
        "    win_size = min(7, h, w)  # Ensure win_size doesn't exceed dimensions\n",
        "    if win_size % 2 == 0:\n",
        "        win_size -= 1  # Ensure win_size is odd\n",
        "    return ssim(image1, image2, multichannel=True, data_range=1.0, win_size=win_size)"
      ],
      "metadata": {
        "id": "CmxPANGa-vPH"
      },
      "execution_count": null,
      "outputs": []
    },
    {
      "cell_type": "markdown",
      "source": [
        "**Calculate LPIPS**\n",
        "\n",
        "Calculates the LPIPS (Learned Perceptual Image Patch Similarity) score between two images. Converts images to tensors, normalizes to [-1, 1], and evaluates the similarity using the loaded LPIPS model"
      ],
      "metadata": {
        "id": "KQ6bz8byEaU4"
      }
    },
    {
      "cell_type": "code",
      "source": [
        "def calculate_lpips(image1, image2):\n",
        "    \"\"\"Calculate LPIPS between two images.\"\"\"\n",
        "    image1_tensor = torch.tensor(image1.transpose(2, 0, 1) * 2 - 1, dtype=torch.float32).unsqueeze(0).cuda()\n",
        "    image2_tensor = torch.tensor(image2.transpose(2, 0, 1) * 2 - 1, dtype=torch.float32).unsqueeze(0).cuda()\n",
        "    with torch.no_grad():\n",
        "        return lpips_model(image1_tensor, image2_tensor).item()"
      ],
      "metadata": {
        "id": "fyfL7IGR-wjO"
      },
      "execution_count": null,
      "outputs": []
    },
    {
      "cell_type": "markdown",
      "source": [
        "**Load Images**\n",
        "\n",
        "Loads the original, degraded, and restored images as normalized numpy arrays using the load_image function"
      ],
      "metadata": {
        "id": "U51oFRcsEuuE"
      }
    },
    {
      "cell_type": "code",
      "source": [
        "# Load Images\n",
        "original = load_image(test_path)\n",
        "degraded = load_image(test_degraded_path)\n",
        "restored = load_image(test_restored_path)"
      ],
      "metadata": {
        "id": "p0Q5puP1-zAA"
      },
      "execution_count": null,
      "outputs": []
    },
    {
      "cell_type": "markdown",
      "source": [
        "**Resize Images to Fixed Dimensions**\n",
        "\n",
        "Resizes all images to a fixed dimension (256x256) to ensure consistent size for metric calculations"
      ],
      "metadata": {
        "id": "ZihgSn3qExbh"
      }
    },
    {
      "cell_type": "code",
      "source": [
        "# Resize All Images to Fixed Dimensions\n",
        "fixed_size = (256, 256)  # Define a fixed size for all images\n",
        "original_resized = resize_to_fixed_size(original, fixed_size)\n",
        "degraded_resized = resize_to_fixed_size(degraded, fixed_size)\n",
        "restored_resized = resize_to_fixed_size(restored, fixed_size)"
      ],
      "metadata": {
        "id": "UKLs-R7p-3oW"
      },
      "execution_count": null,
      "outputs": []
    },
    {
      "cell_type": "markdown",
      "source": [
        "**Calculate PSNR (Peak Signal-to-Noise Ratio) and SSIM (Structural Similarity Index)**\n",
        "\n",
        "Computes PSNR to measure the fidelity of degraded and restored images relative to the original\n",
        "\n",
        "Calculates SSIM for degraded and restored images. Handles potential errors, such as window size exceeding image dimensions"
      ],
      "metadata": {
        "id": "2iSjZzuUE1SZ"
      }
    },
    {
      "cell_type": "code",
      "source": [
        "# Calculate Metrics\n",
        "psnr_degraded = psnr(original_resized, degraded_resized, data_range=1.0)\n",
        "psnr_restored = psnr(original_resized, restored_resized, data_range=1.0)\n",
        "\n",
        "try:\n",
        "    ssim_degraded = calculate_ssim_with_fallback(original_resized, degraded_resized)\n",
        "except Exception as e:\n",
        "    ssim_degraded = None\n",
        "    print(f\"SSIM Degraded Error: {e}\")\n",
        "\n",
        "try:\n",
        "    ssim_restored = calculate_ssim_with_fallback(original_resized, restored_resized)\n",
        "except Exception as e:\n",
        "    ssim_restored = None\n",
        "    print(f\"SSIM Restored Error: {e}\")\n"
      ],
      "metadata": {
        "colab": {
          "base_uri": "https://localhost:8080/"
        },
        "id": "KH8j-qMW-6BN",
        "outputId": "8191568d-10bd-487a-aaed-cff805353c4c"
      },
      "execution_count": null,
      "outputs": [
        {
          "output_type": "stream",
          "name": "stdout",
          "text": [
            "SSIM Degraded Error: win_size exceeds image extent. Either ensure that your images are at least 7x7; or pass win_size explicitly in the function call, with an odd value less than or equal to the smaller side of your images. If your images are multichannel (with color channels), set channel_axis to the axis number corresponding to the channels.\n",
            "SSIM Restored Error: win_size exceeds image extent. Either ensure that your images are at least 7x7; or pass win_size explicitly in the function call, with an odd value less than or equal to the smaller side of your images. If your images are multichannel (with color channels), set channel_axis to the axis number corresponding to the channels.\n"
          ]
        }
      ]
    },
    {
      "cell_type": "markdown",
      "source": [
        "**Calculate LPIPS (Learned Perceptual Image Patch Similarity)**\n",
        "\n",
        "Computes LPIPS to measure perceptual similarity between the original image and both degraded and restored versions"
      ],
      "metadata": {
        "id": "hnyHp2qFFAkh"
      }
    },
    {
      "cell_type": "code",
      "source": [
        "lpips_degraded = calculate_lpips(original_resized, degraded_resized)\n",
        "lpips_restored = calculate_lpips(original_resized, restored_resized)"
      ],
      "metadata": {
        "id": "QMgJZ4Bs-7u2"
      },
      "execution_count": null,
      "outputs": []
    },
    {
      "cell_type": "markdown",
      "source": [
        "**Displaying Image Quality Evaluation Results**\n",
        "\n",
        "Prints the computed metrics for Peak Signal-to-Noise Ratio (PSNR), Structural Similarity Index (SSIM), and Learned Perceptual Image Patch Similarity (LPIPS). Includes fallback messages if SSIM couldn't be calculated."
      ],
      "metadata": {
        "id": "BMDAzVf6FLul"
      }
    },
    {
      "cell_type": "code",
      "source": [
        "# Print Results\n",
        "print(f\"Metrics for image '0002.png':\")\n",
        "print(f\"PSNR (Degraded): {psnr_degraded:.2f}\")\n",
        "print(f\"PSNR (Restored): {psnr_restored:.2f}\")\n",
        "if ssim_degraded is not None:\n",
        "    print(f\"SSIM (Degraded): {ssim_degraded:.4f}\")\n",
        "else:\n",
        "    print(\"SSIM (Degraded): Could not be calculated.\")\n",
        "if ssim_restored is not None:\n",
        "    print(f\"SSIM (Restored): {ssim_restored:.4f}\")\n",
        "else:\n",
        "    print(\"SSIM (Restored): Could not be calculated.\")\n",
        "print(f\"LPIPS (Degraded): {lpips_degraded:.4f}\")\n",
        "print(f\"LPIPS (Restored): {lpips_restored:.4f}\")"
      ],
      "metadata": {
        "colab": {
          "base_uri": "https://localhost:8080/"
        },
        "id": "jqQKBje9--VP",
        "outputId": "4f4ec96b-4f73-436a-c66f-d3a58ad72398"
      },
      "execution_count": null,
      "outputs": [
        {
          "output_type": "stream",
          "name": "stdout",
          "text": [
            "Metrics for image '0002.png':\n",
            "PSNR (Degraded): 29.80\n",
            "PSNR (Restored): 26.69\n",
            "SSIM (Degraded): Could not be calculated.\n",
            "SSIM (Restored): Could not be calculated.\n",
            "LPIPS (Degraded): 0.1969\n",
            "LPIPS (Restored): 0.1919\n"
          ]
        }
      ]
    },
    {
      "cell_type": "markdown",
      "source": [
        "**SSIM Calculation with Error Handling and Normalization**\n",
        "\n",
        "* Calculates SSIM with a manually defined win_size (3 in this case)\n",
        "* Handles potential errors (e.g., ValueError) by catching exceptions and logging the error while setting ssim_value to None.\n",
        "* Prints the PSNR and SSIM values for the restored image. If SSIM calculation fails, logs a fallback message"
      ],
      "metadata": {
        "id": "UAKaj27FFK2l"
      }
    },
    {
      "cell_type": "code",
      "source": [
        "# SSIM Calculation\n",
        "try:\n",
        "    win_size = 3  # set win_size\n",
        "    ssim_value = ssim(\n",
        "        orignal_resized,\n",
        "        restored_resized,\n",
        "        multichannel=True,\n",
        "        data_range=1.0,\n",
        "        win_size=win_size\n",
        "    )\n",
        "except ValueError as e:\n",
        "    print(f\"SSIM Calculation Error: {e}\")\n",
        "    ssim_value = None\n",
        "\n",
        "# Normalize restored image for visualization\n",
        "restored_image_resized = np.clip(restored_resized, 0, 1)  # Ensure valid pixel range\n",
        "\n",
        "# Print Metrics\n",
        "print(f\"Metrics for Restored Image:\")\n",
        "print(f\"PSNR: {psnr_value:.2f}\")\n",
        "if ssim_value is not None:\n",
        "    print(f\"SSIM: {ssim_value:.4f}\")\n",
        "else:\n",
        "    print(\"SSIM could not be calculated due to image size.\")\n"
      ],
      "metadata": {
        "colab": {
          "base_uri": "https://localhost:8080/"
        },
        "id": "yLaujb4I9PSI",
        "outputId": "8bffb08a-9aa5-49be-d4bf-2af7e9ce44b2"
      },
      "execution_count": null,
      "outputs": [
        {
          "output_type": "stream",
          "name": "stdout",
          "text": [
            "Metrics for Restored Image:\n",
            "PSNR: 26.69\n",
            "SSIM: 0.8684\n"
          ]
        }
      ]
    },
    {
      "cell_type": "markdown",
      "source": [
        "**Batch Processing and Average Quality Metrics Calculation**\n",
        "\n",
        "\n",
        "This cell processes all images in the specified directories, computes PSNR and SSIM for degraded and restored images compared to the original high-resolution images, and calculates the average metrics to evaluate overall performance"
      ],
      "metadata": {
        "id": "rhxeXzo1FuIq"
      }
    },
    {
      "cell_type": "code",
      "source": [
        "# Directories for input\n",
        "test_dir = \"/content/drive/MyDrive/ESR_GAN/test\"  # High-resolution ground truth images\n",
        "test_degraded_dir = \"/content/drive/MyDrive/ESR_GAN/test_degraded\"  # Degraded images\n",
        "test_results_dir = \"/content/drive/MyDrive/ESR_GAN/test_degraded_results\"  # Restored output images\n",
        "\n",
        "# Initialize variables to store metrics\n",
        "psnr_degraded_values = []\n",
        "psnr_restored_values = []\n",
        "ssim_degraded_values = []\n",
        "ssim_restored_values = []\n",
        "\n",
        "# Target size for resizing\n",
        "target_size = (256, 256)\n",
        "\n",
        "# Process all images in the directory\n",
        "for image_name in os.listdir(test_dir):\n",
        "    try:\n",
        "        # File paths\n",
        "        original_path = os.path.join(test_dir, image_name)\n",
        "        degraded_path = os.path.join(test_degraded_dir, image_name)\n",
        "        restored_path = os.path.join(test_results_dir, image_name.replace(\".png\", \"_out.png\"))\n",
        "\n",
        "        # Load images\n",
        "        original = load_image(original_path)\n",
        "        degraded = load_image(degraded_path)\n",
        "        restored = load_image(restored_path)\n",
        "\n",
        "        # Resize all images to the same fixed size\n",
        "        original_resized = resize_to_fixed_size(original, target_size)\n",
        "        degraded_resized = resize_to_fixed_size(degraded, target_size)\n",
        "        restored_resized = resize_to_fixed_size(restored, target_size)\n",
        "\n",
        "        # PSNR Calculation\n",
        "        psnr_degraded = psnr(original_resized, degraded_resized, data_range=1.0)\n",
        "        psnr_restored = psnr(original_resized, restored_resized, data_range=1.0)\n",
        "        psnr_degraded_values.append(psnr_degraded)\n",
        "        psnr_restored_values.append(psnr_restored)\n",
        "\n",
        "        # SSIM Calculation\n",
        "        win_size = 3  # Fixed win_size\n",
        "        ssim_degraded = ssim(original_resized, degraded_resized, multichannel=True, data_range=1.0, win_size=win_size)\n",
        "        ssim_restored = ssim(original_resized, restored_resized, multichannel=True, data_range=1.0, win_size=win_size)\n",
        "        ssim_degraded_values.append(ssim_degraded)\n",
        "        ssim_restored_values.append(ssim_restored)\n",
        "\n",
        "    except Exception as e:\n",
        "        print(f\"Error processing {image_name}: {e}\")\n",
        "\n",
        "# Calculate average metrics\n",
        "average_psnr_degraded = np.mean(psnr_degraded_values)\n",
        "average_psnr_restored = np.mean(psnr_restored_values)\n",
        "average_ssim_degraded = np.mean(ssim_degraded_values)\n",
        "average_ssim_restored = np.mean(ssim_restored_values)\n",
        "\n",
        "# Print average metrics\n",
        "print(\"Average Metrics Across All Images:\")\n",
        "print(f\"Average PSNR (Degraded): {average_psnr_degraded:.2f}\")\n",
        "print(f\"Average PSNR (Restored): {average_psnr_restored:.2f}\")\n",
        "print(f\"Average SSIM (Degraded): {average_ssim_degraded:.4f}\")\n",
        "print(f\"Average SSIM (Restored): {average_ssim_restored:.4f}\")\n"
      ],
      "metadata": {
        "id": "3Udxqo3RBQDp",
        "colab": {
          "base_uri": "https://localhost:8080/"
        },
        "outputId": "59b45475-5432-44bc-8ebe-88d883367512"
      },
      "execution_count": null,
      "outputs": [
        {
          "output_type": "stream",
          "name": "stdout",
          "text": [
            "Average Metrics Across All Images:\n",
            "Average PSNR (Degraded): 25.99\n",
            "Average PSNR (Restored): 26.29\n",
            "Average SSIM (Degraded): 0.8055\n",
            "Average SSIM (Restored): 0.8640\n"
          ]
        }
      ]
    },
    {
      "cell_type": "code",
      "source": [],
      "metadata": {
        "id": "oHxoX9uTM_Ca"
      },
      "execution_count": null,
      "outputs": []
    }
  ]
}